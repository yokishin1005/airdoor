{
 "cells": [
  {
   "cell_type": "code",
   "execution_count": 1,
   "metadata": {},
   "outputs": [],
   "source": [
    "from time import sleep\n",
    "from bs4 import BeautifulSoup\n",
    "import requests\n",
    "import pandas as pd"
   ]
  },
  {
   "cell_type": "code",
   "execution_count": 14,
   "metadata": {},
   "outputs": [
    {
     "name": "stdout",
     "output_type": "stream",
     "text": [
      "https://airdoor.jp/list?si=d-141011-141020-141038-141046-141054-141062-141071-141089-141097-141101-141119-141127-141135-141143-141151-141160-141178-141186&p=2\n"
     ]
    }
   ],
   "source": [
    "#変数urlにSUUMOホームページをのURLを格納する\n",
    "url='https://airdoor.jp/list?si=d-141011-141020-141038-141046-141054-141062-141071-141089-141097-141101-141119-141127-141135-141143-141151-141160-141178-141186&p={}'\n",
    "\n",
    "#アクセスするためのURLをtaget_urlに格納する\n",
    "target_url = url.format(2)\n",
    "\n",
    "print(target_url)"
   ]
  },
  {
   "cell_type": "code",
   "execution_count": 15,
   "metadata": {},
   "outputs": [],
   "source": [
    "r = requests.get(target_url)\n",
    "\n",
    "soup = BeautifulSoup(r.text)"
   ]
  },
  {
   "cell_type": "code",
   "execution_count": 20,
   "metadata": {},
   "outputs": [],
   "source": [
    "contents = soup.find_all('div', class_='PropertyPanel_propertyPanel__MqCpF')"
   ]
  },
  {
   "cell_type": "code",
   "execution_count": 21,
   "metadata": {},
   "outputs": [
    {
     "data": {
      "text/plain": [
       "20"
      ]
     },
     "execution_count": 21,
     "metadata": {},
     "output_type": "execute_result"
    }
   ],
   "source": [
    "len(contents)"
   ]
  },
  {
   "cell_type": "code",
   "execution_count": 22,
   "metadata": {},
   "outputs": [],
   "source": [
    "content = contents[0]"
   ]
  },
  {
   "cell_type": "markdown",
   "metadata": {},
   "source": [
    "（他サイトやAPIで代替も可）\n",
    "■最低限必要な取得項目\n",
    "-物件名\n",
    "\n",
    "-住所\n",
    "\n",
    "-間取り\n",
    "\n",
    "-家賃\n",
    "\n",
    "-階数\n",
    "→できたコードをGithubにプッシュしてTAに共有してOKもらう"
   ]
  },
  {
   "cell_type": "code",
   "execution_count": 51,
   "metadata": {},
   "outputs": [],
   "source": [
    "#物件名\n",
    "buildingTitle = content.find('div', class_= 'PropertyPanelBuilding_buildingTitle__NbWmb').text\n",
    "#住所\n",
    "buildingInformation = content.find('p', class_= 'is-mt5').text\n",
    "#家賃\n",
    "rentPrice = content.find('div', class_= 'PropertyPanelRoom_rentPrice__HO4Jp').text\n",
    "#部屋情報（号室、間取り、㎡、方角）\n",
    "roomDetail = content.find('span', class_='is-ml5').text"
   ]
  },
  {
   "cell_type": "code",
   "execution_count": 52,
   "metadata": {},
   "outputs": [
    {
     "data": {
      "text/plain": [
       "('【空室1件】 ピアタウン日吉',\n",
       " '神奈川県横浜市港北区箕輪町２丁目',\n",
       " '95,000円 (管理費5,000円)',\n",
       " '505号室 / 2DK / 43.9㎡ / 南東')"
      ]
     },
     "execution_count": 52,
     "metadata": {},
     "output_type": "execute_result"
    }
   ],
   "source": [
    "buildingTitle,buildingInformation,rentPrice,roomDetail"
   ]
  },
  {
   "cell_type": "code",
   "execution_count": 56,
   "metadata": {},
   "outputs": [
    {
     "ename": "IndentationError",
     "evalue": "unindent does not match any outer indentation level (<tokenize>, line 21)",
     "output_type": "error",
     "traceback": [
      "\u001b[1;36m  File \u001b[1;32m<tokenize>:21\u001b[1;36m\u001b[0m\n\u001b[1;33m    contents = soup.find_all('div', class_='PropertyPanel_propertyPanel__MqCpF')\u001b[0m\n\u001b[1;37m    ^\u001b[0m\n\u001b[1;31mIndentationError\u001b[0m\u001b[1;31m:\u001b[0m unindent does not match any outer indentation level\n"
     ]
    }
   ],
   "source": [
    "# 必要なライブラリのインポート\n",
    "from time import sleep\n",
    "from bs4 import BeautifulSoup\n",
    "import requests\n",
    "import pandas as pd\n",
    "\n",
    "# 変数urlにairdoorサイトのURLを格納する\n",
    "url='https://airdoor.jp/list?si=d-141011-141020-141038-141046-141054-141062-141071-141089-141097-141101-141119-141127-141135-141143-141151-141160-141178-141186&p={}'\n",
    "\n",
    "# 物件情報を格納するリストを初期化する\n",
    "property_list = []\n",
    "\n",
    "# ページ番号が1から3までの各ページに対してループ\n",
    "for i in range(1, 4):\n",
    "    target_url = url.format(i)  # ページ番号をURLに埋め込む\n",
    "    r = requests.get(target_url)  # ページのHTMLデータを取得する\n",
    "    sleep(1)  # SUUMOサーバーへの負荷を軽減する\n",
    "    soup = BeautifulSoup(r.text, 'html.parser')  # BeautifulSoupでHTMLを解析する\n",
    "\n",
    "    # 各物件情報を取得する\n",
    "  　contents = soup.find_all('div', class_='PropertyPanel_propertyPanel__MqCpF')\n",
    "\n",
    "    # 各物件情報をループで取得する\n",
    "for content in contents:\n",
    "        #物件名\n",
    "        buildingTitle = content.find('div', class_= 'PropertyPanelBuilding_buildingTitle__NbWmb').text\n",
    "        #住所\n",
    "        buildingInformation = content.find('p', class_= 'is-mt5').text\n",
    "        #家賃\n",
    "        rentPrice = content.find('div', class_= 'PropertyPanelRoom_rentPrice__HO4Jp').text\n",
    "        #部屋情報（号室、間取り、㎡、方角）\n",
    "        roomDetail = content.find('span', class_='is-ml5').text\n",
    "\n",
    "            # 取得した全ての情報を辞書に格納する\n",
    "property = {\n",
    "                'Title': buildingTitle,\n",
    "                'address': buildingInformation,\n",
    "                'price': rentPrice,\n",
    "                'room_detail': roomDetail,\n",
    "            }\n",
    "\n",
    "            # 取得した辞書をproperty_listに格納する\n",
    "property_list.append(d)\n",
    "\n",
    "# 取得したリストをdfに格納\n",
    "df = pd.DataFrame(property_list)\n",
    "\n",
    "# dfをcsvに出力\n",
    "df.to_csv('step3hw.csv', index=None, encoding='utf-8-sig')\n"
   ]
  },
  {
   "cell_type": "code",
   "execution_count": 58,
   "metadata": {},
   "outputs": [],
   "source": [
    "# 必要なライブラリのインポート\n",
    "from time import sleep\n",
    "from bs4 import BeautifulSoup\n",
    "import requests\n",
    "import pandas as pd\n",
    "\n",
    "# 変数urlにairdoorサイトのURLを格納する\n",
    "url = 'https://airdoor.jp/list?si=d-141011-141020-141038-141046-141054-141062-141071-141089-141097-141101-141119-141127-141135-141143-141151-141160-141178-141186&p={}'\n",
    "\n",
    "# 物件情報を格納するリストを初期化する\n",
    "property_list = []\n",
    "\n",
    "# ページ番号が1から3までの各ページに対してループ\n",
    "for i in range(1, 4):\n",
    "    target_url = url.format(i)  # ページ番号をURLに埋め込む\n",
    "    r = requests.get(target_url)  # ページのHTMLデータを取得する\n",
    "    sleep(1)  # SUUMOサーバーへの負荷を軽減する\n",
    "    soup = BeautifulSoup(r.text, 'html.parser')  # BeautifulSoupでHTMLを解析する\n",
    "\n",
    "    # 各物件情報を取得する\n",
    "    contents = soup.find_all('div', class_='PropertyPanel_propertyPanel__MqCpF')\n",
    "\n",
    "    # 各物件情報をループで取得する\n",
    "    for content in contents:\n",
    "        # 物件名\n",
    "        buildingTitle = content.find('div', class_='PropertyPanelBuilding_buildingTitle__NbWmb').text\n",
    "        # 住所\n",
    "        buildingInformation = content.find('p', class_='is-mt5').text\n",
    "        # 家賃\n",
    "        rentPrice = content.find('div', class_='PropertyPanelRoom_rentPrice__HO4Jp').text\n",
    "        # 部屋情報（号室、間取り、㎡、方角）\n",
    "        roomDetail = content.find('span', class_='is-ml5').text\n",
    "\n",
    "        # 取得した全ての情報を辞書に格納する\n",
    "        property = {\n",
    "            'Title': buildingTitle,\n",
    "            'address': buildingInformation,\n",
    "            'price': rentPrice,\n",
    "            'room_detail': roomDetail,\n",
    "        }\n",
    "\n",
    "        # 取得した辞書をproperty_listに格納する\n",
    "        property_list.append(property)\n",
    "\n",
    "# 取得したリストをdfに格納\n",
    "df = pd.DataFrame(property_list)\n",
    "\n",
    "# dfをcsvに出力\n",
    "df.to_csv('airdoor.csv', index=None, encoding='utf-8-sig')\n"
   ]
  }
 ],
 "metadata": {
  "kernelspec": {
   "display_name": "Python 3",
   "language": "python",
   "name": "python3"
  },
  "language_info": {
   "codemirror_mode": {
    "name": "ipython",
    "version": 3
   },
   "file_extension": ".py",
   "mimetype": "text/x-python",
   "name": "python",
   "nbconvert_exporter": "python",
   "pygments_lexer": "ipython3",
   "version": "3.11.4"
  }
 },
 "nbformat": 4,
 "nbformat_minor": 2
}
